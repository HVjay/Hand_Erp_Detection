{
 "cells": [
  {
   "cell_type": "code",
   "execution_count": 3,
   "metadata": {},
   "outputs": [],
   "source": [
    "import tensorflow as tf\n",
    "from tensorflow.keras.models import Sequential\n",
    "from tensorflow.keras.layers import Dense\n",
    "from tensorflow.keras.layers import LSTM"
   ]
  },
  {
   "cell_type": "markdown",
   "metadata": {},
   "source": [
    "Inception_Time"
   ]
  },
  {
   "cell_type": "code",
   "execution_count": 4,
   "metadata": {},
   "outputs": [],
   "source": [
    "class InceptionModule(tf.keras.layers.Layer):\n",
    "    def __init__(self,num_filters=32,activation='relu',**kwargs):\n",
    "        super().__init__(**kwargs)\n",
    "        self.num_filters=num_filters\n",
    "        self.activation=tf.keras.activations.get(activation)\n",
    "    \n",
    "    def _default_Conv1D(self,filters,kernel_size):\n",
    "        return tf.keras.layers.Conv1D(filters=filters,\n",
    "                                     kernel_size=kernel_size,\n",
    "                                     strides=1,\n",
    "                                     activation='relu',\n",
    "                                     use_bias=False)\n",
    "    \n",
    "    def call(self,inputs):\n",
    "        z_bottleneck=self._default_Conv1D(filters=self.num_filters,kernel_size=1)(inputs)\n",
    "        z_maxpool=tf.keras.layers.MaxPool1D(pool_size=3,strides=1,padding='same')(inputs)\n",
    "    \n",
    "        z1=self._default_Conv1D(filters=self.num_filters,kernel_size=1)(z_bottleneck)\n",
    "        z2=self._default_Conv1D(filters=self.num_filters,kernel_size=1)(z_bottleneck)\n",
    "        z3=self._default_Conv1D(filters=self.num_filters,kernel_size=1)(z_bottleneck)\n",
    "        z4=self._default_Conv1D(filters=self.num_filters,kernel_size=1)(z_maxpool)\n",
    "        \n",
    "        z=tf.keras.layers.Concatenate(axis=2)([z1,z2,z3,z4])\n",
    "        z=tf.keras.layers.BatchNormalization()(z)\n",
    "        activation=self.activation(z)\n",
    "        \n",
    "        return activation"
   ]
  },
  {
   "cell_type": "code",
   "execution_count": 5,
   "metadata": {},
   "outputs": [],
   "source": [
    "def shortcut_layer(inputs,z_inception):\n",
    "    z_shortcut=tf.keras.layers.Conv1D(filters=int(out_tensorshape[-1],kernel_size=1,\n",
    "                                              padding='same',use_bias='False'))(inputs)\n",
    "    z_shortcut=tf.keras.layers.BatchNormalization()(z_shortcut)\n",
    "    z=tf.keras.layers.Add()([z_shortcut,z_inception])\n",
    "    \n",
    "    return tf.keras.layers.Activation('relu')(Z)\n",
    "\n",
    "def build_model(input_shape,num_classes,num_modules):\n",
    "    input_layer=tf.keras.layers.Input(input_shape)\n",
    "    z=input_layer\n",
    "    z_residual=input_layer\n",
    "    \n",
    "    for i in range(num_modules):\n",
    "        z=InceptionModule()(z)\n",
    "        if i%3==2:\n",
    "            z=shortcut_layer(z_residual,z)\n",
    "            z_residucal=z\n",
    "    \n",
    "    gap_layer=tf.keras.layers.GlobalAveragePooling1D()(z)\n",
    "    output_layer=tf.keras.layers.Dense(num_classes,activation='softmax')(gap_layer)\n",
    "    \n",
    "    model=tf.keras.models.Model(inputs=input_layer,outputs=output_layer)\n",
    "    model.compile(loss='categorical_crossentropy',optimizer=tf.keras.optimizers.Adam(),metrics=['accuracy'])\n",
    "    \n",
    "    return model"
   ]
  },
  {
   "cell_type": "code",
   "execution_count": null,
   "metadata": {},
   "outputs": [],
   "source": [
    "model=build_model((4,4),3,1)"
   ]
  },
  {
   "cell_type": "markdown",
   "metadata": {},
   "source": [
    "Multi-Layer_Perceptron"
   ]
  },
  {
   "cell_type": "code",
   "execution_count": 7,
   "metadata": {},
   "outputs": [],
   "source": [
    "# n_input=X_final.shape[1]*X_final.shape[2]\n",
    "# X_final=X_final.reshape((X_final.shape[0],n_input))\n",
    "model=Sequential()\n",
    "model.add(Dense(100,activation='relu',input_dim=n_input))\n",
    "model.add(Dense(3))\n",
    "model.compile(optimizer='adam',loss='mse',metrics=['accuracy'])"
   ]
  },
  {
   "cell_type": "code",
   "execution_count": null,
   "metadata": {},
   "outputs": [],
   "source": []
  }
 ],
 "metadata": {
  "kernelspec": {
   "display_name": "Python 3",
   "language": "python",
   "name": "python3"
  },
  "language_info": {
   "codemirror_mode": {
    "name": "ipython",
    "version": 3
   },
   "file_extension": ".py",
   "mimetype": "text/x-python",
   "name": "python",
   "nbconvert_exporter": "python",
   "pygments_lexer": "ipython3",
   "version": "3.7.3"
  }
 },
 "nbformat": 4,
 "nbformat_minor": 2
}
